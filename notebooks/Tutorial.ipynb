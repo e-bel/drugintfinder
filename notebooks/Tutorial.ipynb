{
 "cells": [
  {
   "cell_type": "markdown",
   "id": "048f0220",
   "metadata": {
    "pycharm": {
     "name": "#%% md\n"
    }
   },
   "source": [
    "# Interactor Finder\n",
    "The `InteractorFinder` class is used to identify specifically linked nodes to your starting case. Here, we show how one initializes this class by choosing the MAPT protein with phosphorylation modification, and finds all causally linked neighbors."
   ]
  },
  {
   "cell_type": "code",
   "execution_count": 1,
   "id": "d5507142",
   "metadata": {
    "ExecuteTime": {
     "end_time": "2021-12-06T09:09:20.179225Z",
     "start_time": "2021-12-06T09:07:56.474635Z"
    },
    "pycharm": {
     "name": "#%%\n"
    }
   },
   "outputs": [
    {
     "name": "stdout",
     "output_type": "stream",
     "text": [
      "MATCH\n",
      "{class:bel, as:target, WHERE:(name in ['autophagy', 'AUTOPHAGY', 'Autophagy'])}\n",
      ".inE(){class:causal ,as:relation, where:(@class != 'causes_no_change')}\n",
      ".outV(){class:bel, as:interactor}\n",
      "RETURN\n",
      "pmod.type as pmod_type,\n",
      "relation.@class as relation_type,\n",
      "target.name as target_symbol,\n",
      "target.bel as target_bel,\n",
      "target.@class as target_type,\n",
      "interactor.bel as interactor_bel,\n",
      "interactor.name as interactor_name,\n",
      "interactor.@class as interactor_type,\n",
      "relation.pmid as pmid,\n",
      "relation.pmc as pmc,\n",
      "target.species as target_species\n",
      "\n"
     ]
    },
    {
     "data": {
      "text/plain": "     target_species      pmid         pmc interactor_type interactor_name  \\\n0                 0  23528736        None         protein            BCL2   \n1                 0  27299292  PMC5032832        activity            None   \n2                 0  24027553  PMC3759803       abundance       Trehalose   \n3                 0  27299292  PMC5032832         protein            TFEB   \n4                 0  24844691        None       abundance        49850262   \n..              ...       ...         ...             ...             ...   \n322               0  31312633  PMC6614182         protein           FOXO6   \n323               0  27181519  PMC5055418         protein          TARDBP   \n324               0  18930136  PMC2621359         protein           WDFY3   \n325               0  30837838  PMC6382748         protein            TFEB   \n326               0  26968346  PMC4928589         protein            TFEB   \n\n              interactor_bel relation_type              target_bel  \\\n0    p(HGNC:\"BCL2\",pmod(Ph))     increases      bp(GO:\"autophagy\")   \n1        act(p(HGNC:\"TFEB\"))     increases      bp(GO:\"autophagy\")   \n2        a(MESH:\"Trehalose\")     increases    bp(MESH:\"Autophagy\")   \n3             p(HGNC:\"TFEB\")     increases      bp(GO:\"autophagy\")   \n4      a(PUBCHEM:\"49850262\")     increases      bp(GO:\"autophagy\")   \n..                       ...           ...                     ...   \n322          p(HGNC:\"FOXO6\")     regulates      bp(GO:\"autophagy\")   \n323         p(HGNC:\"TARDBP\")     regulates      bp(GO:\"autophagy\")   \n324          p(HGNC:\"WDFY3\")     regulates      bp(GO:\"autophagy\")   \n325           p(HGNC:\"TFEB\")     regulates  path(MESH:\"Autophagy\")   \n326           p(HGNC:\"TFEB\")     regulates      bp(GO:\"autophagy\")   \n\n            target_type target_symbol pmod_type  \n0    biological_process     autophagy      None  \n1    biological_process     autophagy      None  \n2    biological_process     Autophagy      None  \n3    biological_process     autophagy      None  \n4    biological_process     autophagy      None  \n..                  ...           ...       ...  \n322  biological_process     autophagy      None  \n323  biological_process     autophagy      None  \n324  biological_process     autophagy      None  \n325           pathology     Autophagy      None  \n326  biological_process     autophagy      None  \n\n[327 rows x 11 columns]",
      "text/html": "<div>\n<style scoped>\n    .dataframe tbody tr th:only-of-type {\n        vertical-align: middle;\n    }\n\n    .dataframe tbody tr th {\n        vertical-align: top;\n    }\n\n    .dataframe thead th {\n        text-align: right;\n    }\n</style>\n<table border=\"1\" class=\"dataframe\">\n  <thead>\n    <tr style=\"text-align: right;\">\n      <th></th>\n      <th>target_species</th>\n      <th>pmid</th>\n      <th>pmc</th>\n      <th>interactor_type</th>\n      <th>interactor_name</th>\n      <th>interactor_bel</th>\n      <th>relation_type</th>\n      <th>target_bel</th>\n      <th>target_type</th>\n      <th>target_symbol</th>\n      <th>pmod_type</th>\n    </tr>\n  </thead>\n  <tbody>\n    <tr>\n      <th>0</th>\n      <td>0</td>\n      <td>23528736</td>\n      <td>None</td>\n      <td>protein</td>\n      <td>BCL2</td>\n      <td>p(HGNC:\"BCL2\",pmod(Ph))</td>\n      <td>increases</td>\n      <td>bp(GO:\"autophagy\")</td>\n      <td>biological_process</td>\n      <td>autophagy</td>\n      <td>None</td>\n    </tr>\n    <tr>\n      <th>1</th>\n      <td>0</td>\n      <td>27299292</td>\n      <td>PMC5032832</td>\n      <td>activity</td>\n      <td>None</td>\n      <td>act(p(HGNC:\"TFEB\"))</td>\n      <td>increases</td>\n      <td>bp(GO:\"autophagy\")</td>\n      <td>biological_process</td>\n      <td>autophagy</td>\n      <td>None</td>\n    </tr>\n    <tr>\n      <th>2</th>\n      <td>0</td>\n      <td>24027553</td>\n      <td>PMC3759803</td>\n      <td>abundance</td>\n      <td>Trehalose</td>\n      <td>a(MESH:\"Trehalose\")</td>\n      <td>increases</td>\n      <td>bp(MESH:\"Autophagy\")</td>\n      <td>biological_process</td>\n      <td>Autophagy</td>\n      <td>None</td>\n    </tr>\n    <tr>\n      <th>3</th>\n      <td>0</td>\n      <td>27299292</td>\n      <td>PMC5032832</td>\n      <td>protein</td>\n      <td>TFEB</td>\n      <td>p(HGNC:\"TFEB\")</td>\n      <td>increases</td>\n      <td>bp(GO:\"autophagy\")</td>\n      <td>biological_process</td>\n      <td>autophagy</td>\n      <td>None</td>\n    </tr>\n    <tr>\n      <th>4</th>\n      <td>0</td>\n      <td>24844691</td>\n      <td>None</td>\n      <td>abundance</td>\n      <td>49850262</td>\n      <td>a(PUBCHEM:\"49850262\")</td>\n      <td>increases</td>\n      <td>bp(GO:\"autophagy\")</td>\n      <td>biological_process</td>\n      <td>autophagy</td>\n      <td>None</td>\n    </tr>\n    <tr>\n      <th>...</th>\n      <td>...</td>\n      <td>...</td>\n      <td>...</td>\n      <td>...</td>\n      <td>...</td>\n      <td>...</td>\n      <td>...</td>\n      <td>...</td>\n      <td>...</td>\n      <td>...</td>\n      <td>...</td>\n    </tr>\n    <tr>\n      <th>322</th>\n      <td>0</td>\n      <td>31312633</td>\n      <td>PMC6614182</td>\n      <td>protein</td>\n      <td>FOXO6</td>\n      <td>p(HGNC:\"FOXO6\")</td>\n      <td>regulates</td>\n      <td>bp(GO:\"autophagy\")</td>\n      <td>biological_process</td>\n      <td>autophagy</td>\n      <td>None</td>\n    </tr>\n    <tr>\n      <th>323</th>\n      <td>0</td>\n      <td>27181519</td>\n      <td>PMC5055418</td>\n      <td>protein</td>\n      <td>TARDBP</td>\n      <td>p(HGNC:\"TARDBP\")</td>\n      <td>regulates</td>\n      <td>bp(GO:\"autophagy\")</td>\n      <td>biological_process</td>\n      <td>autophagy</td>\n      <td>None</td>\n    </tr>\n    <tr>\n      <th>324</th>\n      <td>0</td>\n      <td>18930136</td>\n      <td>PMC2621359</td>\n      <td>protein</td>\n      <td>WDFY3</td>\n      <td>p(HGNC:\"WDFY3\")</td>\n      <td>regulates</td>\n      <td>bp(GO:\"autophagy\")</td>\n      <td>biological_process</td>\n      <td>autophagy</td>\n      <td>None</td>\n    </tr>\n    <tr>\n      <th>325</th>\n      <td>0</td>\n      <td>30837838</td>\n      <td>PMC6382748</td>\n      <td>protein</td>\n      <td>TFEB</td>\n      <td>p(HGNC:\"TFEB\")</td>\n      <td>regulates</td>\n      <td>path(MESH:\"Autophagy\")</td>\n      <td>pathology</td>\n      <td>Autophagy</td>\n      <td>None</td>\n    </tr>\n    <tr>\n      <th>326</th>\n      <td>0</td>\n      <td>26968346</td>\n      <td>PMC4928589</td>\n      <td>protein</td>\n      <td>TFEB</td>\n      <td>p(HGNC:\"TFEB\")</td>\n      <td>regulates</td>\n      <td>bp(GO:\"autophagy\")</td>\n      <td>biological_process</td>\n      <td>autophagy</td>\n      <td>None</td>\n    </tr>\n  </tbody>\n</table>\n<p>327 rows × 11 columns</p>\n</div>"
     },
     "execution_count": 1,
     "metadata": {},
     "output_type": "execute_result"
    }
   ],
   "source": [
    "#!pip install drugintfinder\n",
    "from drugintfinder.finder import InteractorFinder\n",
    "\n",
    "import pandas as pd\n",
    "\n",
    "# Initialize with base information\n",
    "finder = InteractorFinder(node_name=\"Autophagy\", node_type=\"bel\", neighbor_edge_type=\"causal\", print_sql = True)\n",
    "\n",
    "# Select for matching starting protein nodes (i.e. MAPT protein) and find all interactors\n",
    "neighbors = finder.find_interactors()\n",
    "neighbors"
   ]
  },
  {
   "cell_type": "markdown",
   "id": "79078343",
   "metadata": {
    "pycharm": {
     "name": "#%% md\n"
    }
   },
   "source": [
    "### Druggable Interactors\n",
    "While knowing the neighbors of select nodes is useful, knowing which ones can be targeted by drugs and compounds is even more informative. The InteractorFinder class has a method for searching out those special neighbors. By default, these neighbors are isolated to proteins as the KG restricts drug-target interactions to those occurring between proteins and compounds."
   ]
  },
  {
   "cell_type": "code",
   "execution_count": 2,
   "id": "176a87ce",
   "metadata": {
    "ExecuteTime": {
     "end_time": "2021-12-06T09:14:31.420305Z",
     "start_time": "2021-12-06T09:14:10.856319Z"
    },
    "pycharm": {
     "name": "#%%\n"
    }
   },
   "outputs": [
    {
     "ename": "HTTPError",
     "evalue": "HTTP Error 501: Not Implemented",
     "output_type": "error",
     "traceback": [
      "\u001B[1;31m---------------------------------------------------------------------------\u001B[0m",
      "\u001B[1;31mHTTPError\u001B[0m                                 Traceback (most recent call last)",
      "Input \u001B[1;32mIn [2]\u001B[0m, in \u001B[0;36m<cell line: 1>\u001B[1;34m()\u001B[0m\n\u001B[1;32m----> 1\u001B[0m druggable_ints \u001B[38;5;241m=\u001B[39m \u001B[43mfinder\u001B[49m\u001B[38;5;241;43m.\u001B[39;49m\u001B[43mdruggable_interactors\u001B[49m\u001B[43m(\u001B[49m\u001B[43m)\u001B[49m\n\u001B[0;32m      2\u001B[0m druggable_ints\n",
      "File \u001B[1;32mF:\\scai_git\\drugintfinder\\drugintfinder\\finder.py:192\u001B[0m, in \u001B[0;36mInteractorFinder.druggable_interactors\u001B[1;34m(self, print_sql)\u001B[0m\n\u001B[0;32m    189\u001B[0m logger\u001B[38;5;241m.\u001B[39minfo(\u001B[38;5;124m\"\u001B[39m\u001B[38;5;124mQuerying database...\u001B[39m\u001B[38;5;124m\"\u001B[39m)\n\u001B[0;32m    191\u001B[0m pure_results \u001B[38;5;241m=\u001B[39m \u001B[38;5;28mself\u001B[39m\u001B[38;5;241m.\u001B[39m__query_graphstore(sql\u001B[38;5;241m=\u001B[39mformatted_pure_sql, print_sql\u001B[38;5;241m=\u001B[39mprint_sql)\n\u001B[1;32m--> 192\u001B[0m capsule_results \u001B[38;5;241m=\u001B[39m \u001B[38;5;28;43mself\u001B[39;49m\u001B[38;5;241;43m.\u001B[39;49m\u001B[43m__query_graphstore\u001B[49m\u001B[43m(\u001B[49m\u001B[43msql\u001B[49m\u001B[38;5;241;43m=\u001B[39;49m\u001B[43mformatted_capsule_sql\u001B[49m\u001B[43m,\u001B[49m\u001B[43m \u001B[49m\u001B[43mprint_sql\u001B[49m\u001B[38;5;241;43m=\u001B[39;49m\u001B[43mprint_sql\u001B[49m\u001B[43m)\u001B[49m\n\u001B[0;32m    194\u001B[0m \u001B[38;5;28;01mif\u001B[39;00m pure_results \u001B[38;5;129;01mis\u001B[39;00m \u001B[38;5;129;01mnot\u001B[39;00m \u001B[38;5;28;01mNone\u001B[39;00m \u001B[38;5;129;01mor\u001B[39;00m capsule_results \u001B[38;5;129;01mis\u001B[39;00m \u001B[38;5;129;01mnot\u001B[39;00m \u001B[38;5;28;01mNone\u001B[39;00m:  \u001B[38;5;66;03m# Only need one to have results\u001B[39;00m\n\u001B[0;32m    195\u001B[0m     df_concat \u001B[38;5;241m=\u001B[39m pd\u001B[38;5;241m.\u001B[39mconcat([pure_results, capsule_results], axis\u001B[38;5;241m=\u001B[39m\u001B[38;5;241m0\u001B[39m)\u001B[38;5;241m.\u001B[39mreindex(columns\u001B[38;5;241m=\u001B[39mcols)\n",
      "File \u001B[1;32mF:\\scai_git\\drugintfinder\\drugintfinder\\finder.py:56\u001B[0m, in \u001B[0;36mInteractorFinder.__query_graphstore\u001B[1;34m(sql, print_sql)\u001B[0m\n\u001B[0;32m     53\u001B[0m     \u001B[38;5;28mprint\u001B[39m(sql)\n\u001B[0;32m     55\u001B[0m logger\u001B[38;5;241m.\u001B[39mwarning(\u001B[38;5;124m\"\u001B[39m\u001B[38;5;124mQuerying graphstore for interactors - this may take awhile\u001B[39m\u001B[38;5;124m\"\u001B[39m)\n\u001B[1;32m---> 56\u001B[0m results \u001B[38;5;241m=\u001B[39m \u001B[43mrest_query\u001B[49m\u001B[38;5;241;43m.\u001B[39;49m\u001B[43msql\u001B[49m\u001B[43m(\u001B[49m\u001B[43msql\u001B[49m\u001B[43m)\u001B[49m\u001B[38;5;241m.\u001B[39mtable\n\u001B[0;32m     58\u001B[0m \u001B[38;5;28;01mif\u001B[39;00m \u001B[38;5;28misinstance\u001B[39m(results, \u001B[38;5;28mstr\u001B[39m):\n\u001B[0;32m     59\u001B[0m     logger\u001B[38;5;241m.\u001B[39mwarning(\u001B[38;5;124m\"\u001B[39m\u001B[38;5;124mNo results!\u001B[39m\u001B[38;5;124m\"\u001B[39m)\n",
      "File \u001B[1;32mF:\\Envs\\drugintfinder\\lib\\site-packages\\ebel_rest\\manager\\query.py:136\u001B[0m, in \u001B[0;36msql\u001B[1;34m(sql_query)\u001B[0m\n\u001B[0;32m    130\u001B[0m \u001B[38;5;28;01mdef\u001B[39;00m \u001B[38;5;21msql\u001B[39m(sql_query: \u001B[38;5;28mstr\u001B[39m \u001B[38;5;241m=\u001B[39m \u001B[38;5;124m'\u001B[39m\u001B[38;5;124m'\u001B[39m) \u001B[38;5;241m-\u001B[39m\u001B[38;5;241m>\u001B[39m Client:\n\u001B[0;32m    131\u001B[0m     \u001B[38;5;124;03m\"\"\"Executes an SQL function in the Knowledge Graph.\u001B[39;00m\n\u001B[0;32m    132\u001B[0m \n\u001B[0;32m    133\u001B[0m \u001B[38;5;124;03m    :param str sql_query: a valid OrientDB style SQL query for a knowledge graph built by e(BE:L).\u001B[39;00m\n\u001B[0;32m    134\u001B[0m \u001B[38;5;124;03m    :return: Client\u001B[39;00m\n\u001B[0;32m    135\u001B[0m \u001B[38;5;124;03m    \"\"\"\u001B[39;00m\n\u001B[1;32m--> 136\u001B[0m     \u001B[38;5;28;01mreturn\u001B[39;00m \u001B[43mClient\u001B[49m\u001B[43m(\u001B[49m\u001B[43m)\u001B[49m\u001B[38;5;241;43m.\u001B[39;49m\u001B[43mapply_api_function\u001B[49m\u001B[43m(\u001B[49m\u001B[43mss_functions\u001B[49m\u001B[38;5;241;43m.\u001B[39;49m\u001B[43mDIRECT_SQL\u001B[49m\u001B[43m,\u001B[49m\u001B[43m \u001B[49m\u001B[43msql_query\u001B[49m\u001B[43m)\u001B[49m\n",
      "File \u001B[1;32mF:\\Envs\\drugintfinder\\lib\\site-packages\\ebel_rest\\manager\\core.py:72\u001B[0m, in \u001B[0;36mClient.apply_api_function\u001B[1;34m(self, function_name, *args)\u001B[0m\n\u001B[0;32m     70\u001B[0m \u001B[38;5;28;01mdef\u001B[39;00m \u001B[38;5;21mapply_api_function\u001B[39m(\u001B[38;5;28mself\u001B[39m, function_name, \u001B[38;5;241m*\u001B[39margs):\n\u001B[0;32m     71\u001B[0m     \u001B[38;5;28mself\u001B[39m\u001B[38;5;241m.\u001B[39mfunction_name \u001B[38;5;241m=\u001B[39m function_name\n\u001B[1;32m---> 72\u001B[0m     \u001B[38;5;28;43mself\u001B[39;49m\u001B[38;5;241;43m.\u001B[39;49m\u001B[43m_get_data\u001B[49m\u001B[43m(\u001B[49m\u001B[43mfunction_name\u001B[49m\u001B[43m,\u001B[49m\u001B[43m \u001B[49m\u001B[38;5;241;43m*\u001B[39;49m\u001B[43margs\u001B[49m\u001B[43m)\u001B[49m\n\u001B[0;32m     73\u001B[0m     \u001B[38;5;28;01mreturn\u001B[39;00m \u001B[38;5;28mself\u001B[39m\n",
      "File \u001B[1;32mF:\\Envs\\drugintfinder\\lib\\site-packages\\ebel_rest\\manager\\core.py:65\u001B[0m, in \u001B[0;36mClient._get_data\u001B[1;34m(self, function_name, *args)\u001B[0m\n\u001B[0;32m     63\u001B[0m \u001B[38;5;28;01mif\u001B[39;00m \u001B[38;5;28mself\u001B[39m\u001B[38;5;241m.\u001B[39mprint_url:\n\u001B[0;32m     64\u001B[0m     \u001B[38;5;28mprint\u001B[39m(url)\n\u001B[1;32m---> 65\u001B[0m res \u001B[38;5;241m=\u001B[39m \u001B[43murllib\u001B[49m\u001B[38;5;241;43m.\u001B[39;49m\u001B[43mrequest\u001B[49m\u001B[38;5;241;43m.\u001B[39;49m\u001B[43murlopen\u001B[49m\u001B[43m(\u001B[49m\u001B[43murl\u001B[49m\u001B[43m)\u001B[49m\n\u001B[0;32m     66\u001B[0m res_body \u001B[38;5;241m=\u001B[39m res\u001B[38;5;241m.\u001B[39mread()\n\u001B[0;32m     68\u001B[0m \u001B[38;5;28mself\u001B[39m\u001B[38;5;241m.\u001B[39m_data \u001B[38;5;241m=\u001B[39m json\u001B[38;5;241m.\u001B[39mloads(res_body)[\u001B[38;5;124m'\u001B[39m\u001B[38;5;124mresult\u001B[39m\u001B[38;5;124m'\u001B[39m]\n",
      "File \u001B[1;32m~\\AppData\\Local\\Programs\\Python\\Python39\\lib\\urllib\\request.py:214\u001B[0m, in \u001B[0;36murlopen\u001B[1;34m(url, data, timeout, cafile, capath, cadefault, context)\u001B[0m\n\u001B[0;32m    212\u001B[0m \u001B[38;5;28;01melse\u001B[39;00m:\n\u001B[0;32m    213\u001B[0m     opener \u001B[38;5;241m=\u001B[39m _opener\n\u001B[1;32m--> 214\u001B[0m \u001B[38;5;28;01mreturn\u001B[39;00m \u001B[43mopener\u001B[49m\u001B[38;5;241;43m.\u001B[39;49m\u001B[43mopen\u001B[49m\u001B[43m(\u001B[49m\u001B[43murl\u001B[49m\u001B[43m,\u001B[49m\u001B[43m \u001B[49m\u001B[43mdata\u001B[49m\u001B[43m,\u001B[49m\u001B[43m \u001B[49m\u001B[43mtimeout\u001B[49m\u001B[43m)\u001B[49m\n",
      "File \u001B[1;32m~\\AppData\\Local\\Programs\\Python\\Python39\\lib\\urllib\\request.py:523\u001B[0m, in \u001B[0;36mOpenerDirector.open\u001B[1;34m(self, fullurl, data, timeout)\u001B[0m\n\u001B[0;32m    521\u001B[0m \u001B[38;5;28;01mfor\u001B[39;00m processor \u001B[38;5;129;01min\u001B[39;00m \u001B[38;5;28mself\u001B[39m\u001B[38;5;241m.\u001B[39mprocess_response\u001B[38;5;241m.\u001B[39mget(protocol, []):\n\u001B[0;32m    522\u001B[0m     meth \u001B[38;5;241m=\u001B[39m \u001B[38;5;28mgetattr\u001B[39m(processor, meth_name)\n\u001B[1;32m--> 523\u001B[0m     response \u001B[38;5;241m=\u001B[39m \u001B[43mmeth\u001B[49m\u001B[43m(\u001B[49m\u001B[43mreq\u001B[49m\u001B[43m,\u001B[49m\u001B[43m \u001B[49m\u001B[43mresponse\u001B[49m\u001B[43m)\u001B[49m\n\u001B[0;32m    525\u001B[0m \u001B[38;5;28;01mreturn\u001B[39;00m response\n",
      "File \u001B[1;32m~\\AppData\\Local\\Programs\\Python\\Python39\\lib\\urllib\\request.py:632\u001B[0m, in \u001B[0;36mHTTPErrorProcessor.http_response\u001B[1;34m(self, request, response)\u001B[0m\n\u001B[0;32m    629\u001B[0m \u001B[38;5;66;03m# According to RFC 2616, \"2xx\" code indicates that the client's\u001B[39;00m\n\u001B[0;32m    630\u001B[0m \u001B[38;5;66;03m# request was successfully received, understood, and accepted.\u001B[39;00m\n\u001B[0;32m    631\u001B[0m \u001B[38;5;28;01mif\u001B[39;00m \u001B[38;5;129;01mnot\u001B[39;00m (\u001B[38;5;241m200\u001B[39m \u001B[38;5;241m<\u001B[39m\u001B[38;5;241m=\u001B[39m code \u001B[38;5;241m<\u001B[39m \u001B[38;5;241m300\u001B[39m):\n\u001B[1;32m--> 632\u001B[0m     response \u001B[38;5;241m=\u001B[39m \u001B[38;5;28;43mself\u001B[39;49m\u001B[38;5;241;43m.\u001B[39;49m\u001B[43mparent\u001B[49m\u001B[38;5;241;43m.\u001B[39;49m\u001B[43merror\u001B[49m\u001B[43m(\u001B[49m\n\u001B[0;32m    633\u001B[0m \u001B[43m        \u001B[49m\u001B[38;5;124;43m'\u001B[39;49m\u001B[38;5;124;43mhttp\u001B[39;49m\u001B[38;5;124;43m'\u001B[39;49m\u001B[43m,\u001B[49m\u001B[43m \u001B[49m\u001B[43mrequest\u001B[49m\u001B[43m,\u001B[49m\u001B[43m \u001B[49m\u001B[43mresponse\u001B[49m\u001B[43m,\u001B[49m\u001B[43m \u001B[49m\u001B[43mcode\u001B[49m\u001B[43m,\u001B[49m\u001B[43m \u001B[49m\u001B[43mmsg\u001B[49m\u001B[43m,\u001B[49m\u001B[43m \u001B[49m\u001B[43mhdrs\u001B[49m\u001B[43m)\u001B[49m\n\u001B[0;32m    635\u001B[0m \u001B[38;5;28;01mreturn\u001B[39;00m response\n",
      "File \u001B[1;32m~\\AppData\\Local\\Programs\\Python\\Python39\\lib\\urllib\\request.py:555\u001B[0m, in \u001B[0;36mOpenerDirector.error\u001B[1;34m(self, proto, *args)\u001B[0m\n\u001B[0;32m    553\u001B[0m     http_err \u001B[38;5;241m=\u001B[39m \u001B[38;5;241m0\u001B[39m\n\u001B[0;32m    554\u001B[0m args \u001B[38;5;241m=\u001B[39m (\u001B[38;5;28mdict\u001B[39m, proto, meth_name) \u001B[38;5;241m+\u001B[39m args\n\u001B[1;32m--> 555\u001B[0m result \u001B[38;5;241m=\u001B[39m \u001B[38;5;28;43mself\u001B[39;49m\u001B[38;5;241;43m.\u001B[39;49m\u001B[43m_call_chain\u001B[49m\u001B[43m(\u001B[49m\u001B[38;5;241;43m*\u001B[39;49m\u001B[43margs\u001B[49m\u001B[43m)\u001B[49m\n\u001B[0;32m    556\u001B[0m \u001B[38;5;28;01mif\u001B[39;00m result:\n\u001B[0;32m    557\u001B[0m     \u001B[38;5;28;01mreturn\u001B[39;00m result\n",
      "File \u001B[1;32m~\\AppData\\Local\\Programs\\Python\\Python39\\lib\\urllib\\request.py:494\u001B[0m, in \u001B[0;36mOpenerDirector._call_chain\u001B[1;34m(self, chain, kind, meth_name, *args)\u001B[0m\n\u001B[0;32m    492\u001B[0m \u001B[38;5;28;01mfor\u001B[39;00m handler \u001B[38;5;129;01min\u001B[39;00m handlers:\n\u001B[0;32m    493\u001B[0m     func \u001B[38;5;241m=\u001B[39m \u001B[38;5;28mgetattr\u001B[39m(handler, meth_name)\n\u001B[1;32m--> 494\u001B[0m     result \u001B[38;5;241m=\u001B[39m \u001B[43mfunc\u001B[49m\u001B[43m(\u001B[49m\u001B[38;5;241;43m*\u001B[39;49m\u001B[43margs\u001B[49m\u001B[43m)\u001B[49m\n\u001B[0;32m    495\u001B[0m     \u001B[38;5;28;01mif\u001B[39;00m result \u001B[38;5;129;01mis\u001B[39;00m \u001B[38;5;129;01mnot\u001B[39;00m \u001B[38;5;28;01mNone\u001B[39;00m:\n\u001B[0;32m    496\u001B[0m         \u001B[38;5;28;01mreturn\u001B[39;00m result\n",
      "File \u001B[1;32m~\\AppData\\Local\\Programs\\Python\\Python39\\lib\\urllib\\request.py:1054\u001B[0m, in \u001B[0;36mHTTPBasicAuthHandler.http_error_401\u001B[1;34m(self, req, fp, code, msg, headers)\u001B[0m\n\u001B[0;32m   1052\u001B[0m \u001B[38;5;28;01mdef\u001B[39;00m \u001B[38;5;21mhttp_error_401\u001B[39m(\u001B[38;5;28mself\u001B[39m, req, fp, code, msg, headers):\n\u001B[0;32m   1053\u001B[0m     url \u001B[38;5;241m=\u001B[39m req\u001B[38;5;241m.\u001B[39mfull_url\n\u001B[1;32m-> 1054\u001B[0m     response \u001B[38;5;241m=\u001B[39m \u001B[38;5;28;43mself\u001B[39;49m\u001B[38;5;241;43m.\u001B[39;49m\u001B[43mhttp_error_auth_reqed\u001B[49m\u001B[43m(\u001B[49m\u001B[38;5;124;43m'\u001B[39;49m\u001B[38;5;124;43mwww-authenticate\u001B[39;49m\u001B[38;5;124;43m'\u001B[39;49m\u001B[43m,\u001B[49m\n\u001B[0;32m   1055\u001B[0m \u001B[43m                                      \u001B[49m\u001B[43murl\u001B[49m\u001B[43m,\u001B[49m\u001B[43m \u001B[49m\u001B[43mreq\u001B[49m\u001B[43m,\u001B[49m\u001B[43m \u001B[49m\u001B[43mheaders\u001B[49m\u001B[43m)\u001B[49m\n\u001B[0;32m   1056\u001B[0m     \u001B[38;5;28;01mreturn\u001B[39;00m response\n",
      "File \u001B[1;32m~\\AppData\\Local\\Programs\\Python\\Python39\\lib\\urllib\\request.py:1003\u001B[0m, in \u001B[0;36mAbstractBasicAuthHandler.http_error_auth_reqed\u001B[1;34m(self, authreq, host, req, headers)\u001B[0m\n\u001B[0;32m    997\u001B[0m             \u001B[38;5;28;01mcontinue\u001B[39;00m\n\u001B[0;32m    999\u001B[0m         \u001B[38;5;28;01mif\u001B[39;00m realm \u001B[38;5;129;01mis\u001B[39;00m \u001B[38;5;129;01mnot\u001B[39;00m \u001B[38;5;28;01mNone\u001B[39;00m:\n\u001B[0;32m   1000\u001B[0m             \u001B[38;5;66;03m# Use the first matching Basic challenge.\u001B[39;00m\n\u001B[0;32m   1001\u001B[0m             \u001B[38;5;66;03m# Ignore following challenges even if they use the Basic\u001B[39;00m\n\u001B[0;32m   1002\u001B[0m             \u001B[38;5;66;03m# scheme.\u001B[39;00m\n\u001B[1;32m-> 1003\u001B[0m             \u001B[38;5;28;01mreturn\u001B[39;00m \u001B[38;5;28;43mself\u001B[39;49m\u001B[38;5;241;43m.\u001B[39;49m\u001B[43mretry_http_basic_auth\u001B[49m\u001B[43m(\u001B[49m\u001B[43mhost\u001B[49m\u001B[43m,\u001B[49m\u001B[43m \u001B[49m\u001B[43mreq\u001B[49m\u001B[43m,\u001B[49m\u001B[43m \u001B[49m\u001B[43mrealm\u001B[49m\u001B[43m)\u001B[49m\n\u001B[0;32m   1005\u001B[0m \u001B[38;5;28;01mif\u001B[39;00m unsupported \u001B[38;5;129;01mis\u001B[39;00m \u001B[38;5;129;01mnot\u001B[39;00m \u001B[38;5;28;01mNone\u001B[39;00m:\n\u001B[0;32m   1006\u001B[0m     \u001B[38;5;28;01mraise\u001B[39;00m \u001B[38;5;167;01mValueError\u001B[39;00m(\u001B[38;5;124m\"\u001B[39m\u001B[38;5;124mAbstractBasicAuthHandler does not \u001B[39m\u001B[38;5;124m\"\u001B[39m\n\u001B[0;32m   1007\u001B[0m                      \u001B[38;5;124m\"\u001B[39m\u001B[38;5;124msupport the following scheme: \u001B[39m\u001B[38;5;132;01m%r\u001B[39;00m\u001B[38;5;124m\"\u001B[39m\n\u001B[0;32m   1008\u001B[0m                      \u001B[38;5;241m%\u001B[39m (scheme,))\n",
      "File \u001B[1;32m~\\AppData\\Local\\Programs\\Python\\Python39\\lib\\urllib\\request.py:1018\u001B[0m, in \u001B[0;36mAbstractBasicAuthHandler.retry_http_basic_auth\u001B[1;34m(self, host, req, realm)\u001B[0m\n\u001B[0;32m   1016\u001B[0m         \u001B[38;5;28;01mreturn\u001B[39;00m \u001B[38;5;28;01mNone\u001B[39;00m\n\u001B[0;32m   1017\u001B[0m     req\u001B[38;5;241m.\u001B[39madd_unredirected_header(\u001B[38;5;28mself\u001B[39m\u001B[38;5;241m.\u001B[39mauth_header, auth)\n\u001B[1;32m-> 1018\u001B[0m     \u001B[38;5;28;01mreturn\u001B[39;00m \u001B[38;5;28;43mself\u001B[39;49m\u001B[38;5;241;43m.\u001B[39;49m\u001B[43mparent\u001B[49m\u001B[38;5;241;43m.\u001B[39;49m\u001B[43mopen\u001B[49m\u001B[43m(\u001B[49m\u001B[43mreq\u001B[49m\u001B[43m,\u001B[49m\u001B[43m \u001B[49m\u001B[43mtimeout\u001B[49m\u001B[38;5;241;43m=\u001B[39;49m\u001B[43mreq\u001B[49m\u001B[38;5;241;43m.\u001B[39;49m\u001B[43mtimeout\u001B[49m\u001B[43m)\u001B[49m\n\u001B[0;32m   1019\u001B[0m \u001B[38;5;28;01melse\u001B[39;00m:\n\u001B[0;32m   1020\u001B[0m     \u001B[38;5;28;01mreturn\u001B[39;00m \u001B[38;5;28;01mNone\u001B[39;00m\n",
      "File \u001B[1;32m~\\AppData\\Local\\Programs\\Python\\Python39\\lib\\urllib\\request.py:523\u001B[0m, in \u001B[0;36mOpenerDirector.open\u001B[1;34m(self, fullurl, data, timeout)\u001B[0m\n\u001B[0;32m    521\u001B[0m \u001B[38;5;28;01mfor\u001B[39;00m processor \u001B[38;5;129;01min\u001B[39;00m \u001B[38;5;28mself\u001B[39m\u001B[38;5;241m.\u001B[39mprocess_response\u001B[38;5;241m.\u001B[39mget(protocol, []):\n\u001B[0;32m    522\u001B[0m     meth \u001B[38;5;241m=\u001B[39m \u001B[38;5;28mgetattr\u001B[39m(processor, meth_name)\n\u001B[1;32m--> 523\u001B[0m     response \u001B[38;5;241m=\u001B[39m \u001B[43mmeth\u001B[49m\u001B[43m(\u001B[49m\u001B[43mreq\u001B[49m\u001B[43m,\u001B[49m\u001B[43m \u001B[49m\u001B[43mresponse\u001B[49m\u001B[43m)\u001B[49m\n\u001B[0;32m    525\u001B[0m \u001B[38;5;28;01mreturn\u001B[39;00m response\n",
      "File \u001B[1;32m~\\AppData\\Local\\Programs\\Python\\Python39\\lib\\urllib\\request.py:632\u001B[0m, in \u001B[0;36mHTTPErrorProcessor.http_response\u001B[1;34m(self, request, response)\u001B[0m\n\u001B[0;32m    629\u001B[0m \u001B[38;5;66;03m# According to RFC 2616, \"2xx\" code indicates that the client's\u001B[39;00m\n\u001B[0;32m    630\u001B[0m \u001B[38;5;66;03m# request was successfully received, understood, and accepted.\u001B[39;00m\n\u001B[0;32m    631\u001B[0m \u001B[38;5;28;01mif\u001B[39;00m \u001B[38;5;129;01mnot\u001B[39;00m (\u001B[38;5;241m200\u001B[39m \u001B[38;5;241m<\u001B[39m\u001B[38;5;241m=\u001B[39m code \u001B[38;5;241m<\u001B[39m \u001B[38;5;241m300\u001B[39m):\n\u001B[1;32m--> 632\u001B[0m     response \u001B[38;5;241m=\u001B[39m \u001B[38;5;28;43mself\u001B[39;49m\u001B[38;5;241;43m.\u001B[39;49m\u001B[43mparent\u001B[49m\u001B[38;5;241;43m.\u001B[39;49m\u001B[43merror\u001B[49m\u001B[43m(\u001B[49m\n\u001B[0;32m    633\u001B[0m \u001B[43m        \u001B[49m\u001B[38;5;124;43m'\u001B[39;49m\u001B[38;5;124;43mhttp\u001B[39;49m\u001B[38;5;124;43m'\u001B[39;49m\u001B[43m,\u001B[49m\u001B[43m \u001B[49m\u001B[43mrequest\u001B[49m\u001B[43m,\u001B[49m\u001B[43m \u001B[49m\u001B[43mresponse\u001B[49m\u001B[43m,\u001B[49m\u001B[43m \u001B[49m\u001B[43mcode\u001B[49m\u001B[43m,\u001B[49m\u001B[43m \u001B[49m\u001B[43mmsg\u001B[49m\u001B[43m,\u001B[49m\u001B[43m \u001B[49m\u001B[43mhdrs\u001B[49m\u001B[43m)\u001B[49m\n\u001B[0;32m    635\u001B[0m \u001B[38;5;28;01mreturn\u001B[39;00m response\n",
      "File \u001B[1;32m~\\AppData\\Local\\Programs\\Python\\Python39\\lib\\urllib\\request.py:561\u001B[0m, in \u001B[0;36mOpenerDirector.error\u001B[1;34m(self, proto, *args)\u001B[0m\n\u001B[0;32m    559\u001B[0m \u001B[38;5;28;01mif\u001B[39;00m http_err:\n\u001B[0;32m    560\u001B[0m     args \u001B[38;5;241m=\u001B[39m (\u001B[38;5;28mdict\u001B[39m, \u001B[38;5;124m'\u001B[39m\u001B[38;5;124mdefault\u001B[39m\u001B[38;5;124m'\u001B[39m, \u001B[38;5;124m'\u001B[39m\u001B[38;5;124mhttp_error_default\u001B[39m\u001B[38;5;124m'\u001B[39m) \u001B[38;5;241m+\u001B[39m orig_args\n\u001B[1;32m--> 561\u001B[0m     \u001B[38;5;28;01mreturn\u001B[39;00m \u001B[38;5;28;43mself\u001B[39;49m\u001B[38;5;241;43m.\u001B[39;49m\u001B[43m_call_chain\u001B[49m\u001B[43m(\u001B[49m\u001B[38;5;241;43m*\u001B[39;49m\u001B[43margs\u001B[49m\u001B[43m)\u001B[49m\n",
      "File \u001B[1;32m~\\AppData\\Local\\Programs\\Python\\Python39\\lib\\urllib\\request.py:494\u001B[0m, in \u001B[0;36mOpenerDirector._call_chain\u001B[1;34m(self, chain, kind, meth_name, *args)\u001B[0m\n\u001B[0;32m    492\u001B[0m \u001B[38;5;28;01mfor\u001B[39;00m handler \u001B[38;5;129;01min\u001B[39;00m handlers:\n\u001B[0;32m    493\u001B[0m     func \u001B[38;5;241m=\u001B[39m \u001B[38;5;28mgetattr\u001B[39m(handler, meth_name)\n\u001B[1;32m--> 494\u001B[0m     result \u001B[38;5;241m=\u001B[39m \u001B[43mfunc\u001B[49m\u001B[43m(\u001B[49m\u001B[38;5;241;43m*\u001B[39;49m\u001B[43margs\u001B[49m\u001B[43m)\u001B[49m\n\u001B[0;32m    495\u001B[0m     \u001B[38;5;28;01mif\u001B[39;00m result \u001B[38;5;129;01mis\u001B[39;00m \u001B[38;5;129;01mnot\u001B[39;00m \u001B[38;5;28;01mNone\u001B[39;00m:\n\u001B[0;32m    496\u001B[0m         \u001B[38;5;28;01mreturn\u001B[39;00m result\n",
      "File \u001B[1;32m~\\AppData\\Local\\Programs\\Python\\Python39\\lib\\urllib\\request.py:641\u001B[0m, in \u001B[0;36mHTTPDefaultErrorHandler.http_error_default\u001B[1;34m(self, req, fp, code, msg, hdrs)\u001B[0m\n\u001B[0;32m    640\u001B[0m \u001B[38;5;28;01mdef\u001B[39;00m \u001B[38;5;21mhttp_error_default\u001B[39m(\u001B[38;5;28mself\u001B[39m, req, fp, code, msg, hdrs):\n\u001B[1;32m--> 641\u001B[0m     \u001B[38;5;28;01mraise\u001B[39;00m HTTPError(req\u001B[38;5;241m.\u001B[39mfull_url, code, msg, hdrs, fp)\n",
      "\u001B[1;31mHTTPError\u001B[0m: HTTP Error 501: Not Implemented"
     ]
    }
   ],
   "source": [
    "druggable_ints = finder.druggable_interactors()\n",
    "druggable_ints"
   ]
  },
  {
   "cell_type": "markdown",
   "id": "4f8cbb86",
   "metadata": {
    "pycharm": {
     "name": "#%% md\n"
    }
   },
   "source": [
    "# Ranker\n",
    "The `Ranker` class is used to generate useful statistics about identified druggable interactors. Because this scoring is restricted to druggable interactors, only the starting node and pmods are needed to initialize.  \n",
    "\n",
    "The ranking algorithm requires a bit of information to score everything, the first time it is used, it will need to download information on BioAssays and other resources which it will then store in a locally made SQLite database. The total space used is less than 100 MB.  \n",
    "\n",
    "The download will take a couple of minutes during the first ranking, but subsequent rankings will be much faster."
   ]
  },
  {
   "cell_type": "code",
   "execution_count": 3,
   "id": "ffcc5bd7",
   "metadata": {
    "ExecuteTime": {
     "end_time": "2021-12-06T09:19:05.740057Z",
     "start_time": "2021-12-06T09:14:57.167220Z"
    },
    "pycharm": {
     "name": "#%%\n"
    }
   },
   "outputs": [
    {
     "name": "stderr",
     "output_type": "stream",
     "text": [
      "Counting edges: 100%|██████████| 77/77 [00:00<00:00, 1374.68it/s]\n"
     ]
    },
    {
     "data": {
      "text/plain": "                                                  Drug  Target Synergizes  \\\n0    N-(5-Isopropyl-thiazol-2-YL)-2-pyridin-3-YL-ac...    CDK2        N/A   \n1                                  Pyridoxal phosphate     DDC         No   \n2                                           Doxylamine   CHRM1        N/A   \n3                                          Semaglutide   GLP1R        Yes   \n4                                          Minocycline   MAPK3        N/A   \n..                                                 ...     ...        ...   \n822                                         Vorinostat   HDAC6        N/A   \n823  N-{2'-[(4-FLUOROPHENYL)AMINO]-4,4'-BIPYRIDIN-2...  MAPK10        N/A   \n824                                       Umeclidinium   CHRM1        N/A   \n825                                       Propiomazine   CHRM1        N/A   \n826  1-[4-(4-chlorobenzyl)-1-(7H-pyrrolo[2,3-d]pyri...  PRKACA        N/A   \n\n     Number of BioAssays for Target  Number of Causal Edges for Target  \\\n0                                 3                                 17   \n1                                 3                                  2   \n2                                 3                                  9   \n3                                 3                                  6   \n4                                 3                                 19   \n..                              ...                                ...   \n822                               3                                182   \n823                               3                                  0   \n824                               3                                  9   \n825                               3                                  9   \n826                               3                                 16   \n\n    Drug Patent Ongoing Generic Version of Drug Available  \\\n0                    No                                No   \n1                    No                               Yes   \n2                    No                               Yes   \n3                    No                                No   \n4                    No                               Yes   \n..                  ...                               ...   \n822                  No                                No   \n823                  No                                No   \n824                  No                                No   \n825                  No                                No   \n826                  No                                No   \n\n     Number of Drug Targets  \n0                         1  \n1                        56  \n2                         7  \n3                         1  \n4                        23  \n..                      ...  \n822                       6  \n823                       1  \n824                       5  \n825                      10  \n826                       2  \n\n[827 rows x 8 columns]",
      "text/html": "<div>\n<style scoped>\n    .dataframe tbody tr th:only-of-type {\n        vertical-align: middle;\n    }\n\n    .dataframe tbody tr th {\n        vertical-align: top;\n    }\n\n    .dataframe thead th {\n        text-align: right;\n    }\n</style>\n<table border=\"1\" class=\"dataframe\">\n  <thead>\n    <tr style=\"text-align: right;\">\n      <th></th>\n      <th>Drug</th>\n      <th>Target</th>\n      <th>Synergizes</th>\n      <th>Number of BioAssays for Target</th>\n      <th>Number of Causal Edges for Target</th>\n      <th>Drug Patent Ongoing</th>\n      <th>Generic Version of Drug Available</th>\n      <th>Number of Drug Targets</th>\n    </tr>\n  </thead>\n  <tbody>\n    <tr>\n      <th>0</th>\n      <td>N-(5-Isopropyl-thiazol-2-YL)-2-pyridin-3-YL-ac...</td>\n      <td>CDK2</td>\n      <td>N/A</td>\n      <td>3</td>\n      <td>17</td>\n      <td>No</td>\n      <td>No</td>\n      <td>1</td>\n    </tr>\n    <tr>\n      <th>1</th>\n      <td>Pyridoxal phosphate</td>\n      <td>DDC</td>\n      <td>No</td>\n      <td>3</td>\n      <td>2</td>\n      <td>No</td>\n      <td>Yes</td>\n      <td>56</td>\n    </tr>\n    <tr>\n      <th>2</th>\n      <td>Doxylamine</td>\n      <td>CHRM1</td>\n      <td>N/A</td>\n      <td>3</td>\n      <td>9</td>\n      <td>No</td>\n      <td>Yes</td>\n      <td>7</td>\n    </tr>\n    <tr>\n      <th>3</th>\n      <td>Semaglutide</td>\n      <td>GLP1R</td>\n      <td>Yes</td>\n      <td>3</td>\n      <td>6</td>\n      <td>No</td>\n      <td>No</td>\n      <td>1</td>\n    </tr>\n    <tr>\n      <th>4</th>\n      <td>Minocycline</td>\n      <td>MAPK3</td>\n      <td>N/A</td>\n      <td>3</td>\n      <td>19</td>\n      <td>No</td>\n      <td>Yes</td>\n      <td>23</td>\n    </tr>\n    <tr>\n      <th>...</th>\n      <td>...</td>\n      <td>...</td>\n      <td>...</td>\n      <td>...</td>\n      <td>...</td>\n      <td>...</td>\n      <td>...</td>\n      <td>...</td>\n    </tr>\n    <tr>\n      <th>822</th>\n      <td>Vorinostat</td>\n      <td>HDAC6</td>\n      <td>N/A</td>\n      <td>3</td>\n      <td>182</td>\n      <td>No</td>\n      <td>No</td>\n      <td>6</td>\n    </tr>\n    <tr>\n      <th>823</th>\n      <td>N-{2'-[(4-FLUOROPHENYL)AMINO]-4,4'-BIPYRIDIN-2...</td>\n      <td>MAPK10</td>\n      <td>N/A</td>\n      <td>3</td>\n      <td>0</td>\n      <td>No</td>\n      <td>No</td>\n      <td>1</td>\n    </tr>\n    <tr>\n      <th>824</th>\n      <td>Umeclidinium</td>\n      <td>CHRM1</td>\n      <td>N/A</td>\n      <td>3</td>\n      <td>9</td>\n      <td>No</td>\n      <td>No</td>\n      <td>5</td>\n    </tr>\n    <tr>\n      <th>825</th>\n      <td>Propiomazine</td>\n      <td>CHRM1</td>\n      <td>N/A</td>\n      <td>3</td>\n      <td>9</td>\n      <td>No</td>\n      <td>No</td>\n      <td>10</td>\n    </tr>\n    <tr>\n      <th>826</th>\n      <td>1-[4-(4-chlorobenzyl)-1-(7H-pyrrolo[2,3-d]pyri...</td>\n      <td>PRKACA</td>\n      <td>N/A</td>\n      <td>3</td>\n      <td>16</td>\n      <td>No</td>\n      <td>No</td>\n      <td>2</td>\n    </tr>\n  </tbody>\n</table>\n<p>827 rows × 8 columns</p>\n</div>"
     },
     "execution_count": 3,
     "metadata": {},
     "output_type": "execute_result"
    }
   ],
   "source": [
    "from drugintfinder.ranker import Ranker\n",
    "\n",
    "ranker = Ranker(symbol=\"MAPT\", pmods=[\"pho\"], reward=1, penalty=-1)\n",
    "ranker.rank()  # Performs the ranking\n",
    "summary = ranker.summarize()  # Create a summary os the statistics\n",
    "summary"
   ]
  },
  {
   "cell_type": "code",
   "execution_count": 4,
   "id": "e0dab569",
   "metadata": {
    "ExecuteTime": {
     "end_time": "2021-12-06T09:34:57.287676Z",
     "start_time": "2021-12-06T09:34:57.234674Z"
    },
    "pycharm": {
     "name": "#%%\n"
    }
   },
   "outputs": [
    {
     "data": {
      "text/plain": "   Protein  BioAssays per Drug\n76  CAMKK2                   3\n66  PPP3CA                   3\n52   MARK3                   3\n44  BCL2L2                   3\n57  PPP1CA                   3\n59    PTEN                   3\n33   MARK1                   3\n61   PPP5C                   3\n62  S100A1                   3\n63   MARK4                   3",
      "text/html": "<div>\n<style scoped>\n    .dataframe tbody tr th:only-of-type {\n        vertical-align: middle;\n    }\n\n    .dataframe tbody tr th {\n        vertical-align: top;\n    }\n\n    .dataframe thead th {\n        text-align: right;\n    }\n</style>\n<table border=\"1\" class=\"dataframe\">\n  <thead>\n    <tr style=\"text-align: right;\">\n      <th></th>\n      <th>Protein</th>\n      <th>BioAssays per Drug</th>\n    </tr>\n  </thead>\n  <tbody>\n    <tr>\n      <th>76</th>\n      <td>CAMKK2</td>\n      <td>3</td>\n    </tr>\n    <tr>\n      <th>66</th>\n      <td>PPP3CA</td>\n      <td>3</td>\n    </tr>\n    <tr>\n      <th>52</th>\n      <td>MARK3</td>\n      <td>3</td>\n    </tr>\n    <tr>\n      <th>44</th>\n      <td>BCL2L2</td>\n      <td>3</td>\n    </tr>\n    <tr>\n      <th>57</th>\n      <td>PPP1CA</td>\n      <td>3</td>\n    </tr>\n    <tr>\n      <th>59</th>\n      <td>PTEN</td>\n      <td>3</td>\n    </tr>\n    <tr>\n      <th>33</th>\n      <td>MARK1</td>\n      <td>3</td>\n    </tr>\n    <tr>\n      <th>61</th>\n      <td>PPP5C</td>\n      <td>3</td>\n    </tr>\n    <tr>\n      <th>62</th>\n      <td>S100A1</td>\n      <td>3</td>\n    </tr>\n    <tr>\n      <th>63</th>\n      <td>MARK4</td>\n      <td>3</td>\n    </tr>\n  </tbody>\n</table>\n</div>"
     },
     "execution_count": 4,
     "metadata": {},
     "output_type": "execute_result"
    }
   ],
   "source": [
    "bioassays_per_drug = []\n",
    "\n",
    "for interactor in summary.Target.unique():\n",
    "    drugs = len(summary[summary.Target == interactor].Drug.unique())\n",
    "    bioassays = summary[summary.Target == interactor][\"Number of BioAssays for Target\"].iloc[0]\n",
    "    bioassays_per_drug.append({\"Protein\": interactor, \"BioAssays per Drug\": bioassays // drugs})\n",
    "\n",
    "ratio_df = pd.DataFrame(bioassays_per_drug)\n",
    "ratio_df.sort_values(\"BioAssays per Drug\", ascending=False)[:10]"
   ]
  },
  {
   "cell_type": "code",
   "execution_count": 5,
   "id": "1c434d6e",
   "metadata": {
    "ExecuteTime": {
     "end_time": "2021-12-06T09:34:03.996914Z",
     "start_time": "2021-12-06T09:34:03.981913Z"
    },
    "pycharm": {
     "name": "#%%\n"
    }
   },
   "outputs": [
    {
     "data": {
      "text/plain": "3"
     },
     "execution_count": 5,
     "metadata": {},
     "output_type": "execute_result"
    }
   ],
   "source": [
    "import pandas as pd\n",
    "summary[summary.Target == \"APP\"][\"Number of BioAssays for Target\"].iloc[0]"
   ]
  },
  {
   "cell_type": "code",
   "execution_count": 6,
   "id": "63920910",
   "metadata": {
    "ExecuteTime": {
     "end_time": "2021-12-06T09:27:43.996431Z",
     "start_time": "2021-12-06T09:27:43.973404Z"
    },
    "pycharm": {
     "name": "#%%\n"
    }
   },
   "outputs": [
    {
     "ename": "KeyError",
     "evalue": "'BioAssays per Known Drug Target'",
     "output_type": "error",
     "traceback": [
      "\u001B[1;31m---------------------------------------------------------------------------\u001B[0m",
      "\u001B[1;31mKeyError\u001B[0m                                  Traceback (most recent call last)",
      "Input \u001B[1;32mIn [6]\u001B[0m, in \u001B[0;36m<cell line: 1>\u001B[1;34m()\u001B[0m\n\u001B[1;32m----> 1\u001B[0m \u001B[43msummary\u001B[49m\u001B[38;5;241;43m.\u001B[39;49m\u001B[43msort_values\u001B[49m\u001B[43m(\u001B[49m\u001B[43mby\u001B[49m\u001B[38;5;241;43m=\u001B[39;49m\u001B[38;5;124;43m\"\u001B[39;49m\u001B[38;5;124;43mBioAssays per Known Drug Target\u001B[39;49m\u001B[38;5;124;43m\"\u001B[39;49m\u001B[43m,\u001B[49m\u001B[43m \u001B[49m\u001B[43mascending\u001B[49m\u001B[38;5;241;43m=\u001B[39;49m\u001B[38;5;28;43;01mFalse\u001B[39;49;00m\u001B[43m)\u001B[49m\n",
      "File \u001B[1;32mF:\\Envs\\drugintfinder\\lib\\site-packages\\pandas\\util\\_decorators.py:311\u001B[0m, in \u001B[0;36mdeprecate_nonkeyword_arguments.<locals>.decorate.<locals>.wrapper\u001B[1;34m(*args, **kwargs)\u001B[0m\n\u001B[0;32m    305\u001B[0m \u001B[38;5;28;01mif\u001B[39;00m \u001B[38;5;28mlen\u001B[39m(args) \u001B[38;5;241m>\u001B[39m num_allow_args:\n\u001B[0;32m    306\u001B[0m     warnings\u001B[38;5;241m.\u001B[39mwarn(\n\u001B[0;32m    307\u001B[0m         msg\u001B[38;5;241m.\u001B[39mformat(arguments\u001B[38;5;241m=\u001B[39marguments),\n\u001B[0;32m    308\u001B[0m         \u001B[38;5;167;01mFutureWarning\u001B[39;00m,\n\u001B[0;32m    309\u001B[0m         stacklevel\u001B[38;5;241m=\u001B[39mstacklevel,\n\u001B[0;32m    310\u001B[0m     )\n\u001B[1;32m--> 311\u001B[0m \u001B[38;5;28;01mreturn\u001B[39;00m func(\u001B[38;5;241m*\u001B[39margs, \u001B[38;5;241m*\u001B[39m\u001B[38;5;241m*\u001B[39mkwargs)\n",
      "File \u001B[1;32mF:\\Envs\\drugintfinder\\lib\\site-packages\\pandas\\core\\frame.py:6254\u001B[0m, in \u001B[0;36mDataFrame.sort_values\u001B[1;34m(self, by, axis, ascending, inplace, kind, na_position, ignore_index, key)\u001B[0m\n\u001B[0;32m   6251\u001B[0m \u001B[38;5;28;01melif\u001B[39;00m \u001B[38;5;28mlen\u001B[39m(by):\n\u001B[0;32m   6253\u001B[0m     by \u001B[38;5;241m=\u001B[39m by[\u001B[38;5;241m0\u001B[39m]\n\u001B[1;32m-> 6254\u001B[0m     k \u001B[38;5;241m=\u001B[39m \u001B[38;5;28;43mself\u001B[39;49m\u001B[38;5;241;43m.\u001B[39;49m\u001B[43m_get_label_or_level_values\u001B[49m\u001B[43m(\u001B[49m\u001B[43mby\u001B[49m\u001B[43m,\u001B[49m\u001B[43m \u001B[49m\u001B[43maxis\u001B[49m\u001B[38;5;241;43m=\u001B[39;49m\u001B[43maxis\u001B[49m\u001B[43m)\u001B[49m\n\u001B[0;32m   6256\u001B[0m     \u001B[38;5;66;03m# need to rewrap column in Series to apply key function\u001B[39;00m\n\u001B[0;32m   6257\u001B[0m     \u001B[38;5;28;01mif\u001B[39;00m key \u001B[38;5;129;01mis\u001B[39;00m \u001B[38;5;129;01mnot\u001B[39;00m \u001B[38;5;28;01mNone\u001B[39;00m:\n\u001B[0;32m   6258\u001B[0m         \u001B[38;5;66;03m# error: Incompatible types in assignment (expression has type\u001B[39;00m\n\u001B[0;32m   6259\u001B[0m         \u001B[38;5;66;03m# \"Series\", variable has type \"ndarray\")\u001B[39;00m\n",
      "File \u001B[1;32mF:\\Envs\\drugintfinder\\lib\\site-packages\\pandas\\core\\generic.py:1776\u001B[0m, in \u001B[0;36mNDFrame._get_label_or_level_values\u001B[1;34m(self, key, axis)\u001B[0m\n\u001B[0;32m   1774\u001B[0m     values \u001B[38;5;241m=\u001B[39m \u001B[38;5;28mself\u001B[39m\u001B[38;5;241m.\u001B[39maxes[axis]\u001B[38;5;241m.\u001B[39mget_level_values(key)\u001B[38;5;241m.\u001B[39m_values\n\u001B[0;32m   1775\u001B[0m \u001B[38;5;28;01melse\u001B[39;00m:\n\u001B[1;32m-> 1776\u001B[0m     \u001B[38;5;28;01mraise\u001B[39;00m \u001B[38;5;167;01mKeyError\u001B[39;00m(key)\n\u001B[0;32m   1778\u001B[0m \u001B[38;5;66;03m# Check for duplicates\u001B[39;00m\n\u001B[0;32m   1779\u001B[0m \u001B[38;5;28;01mif\u001B[39;00m values\u001B[38;5;241m.\u001B[39mndim \u001B[38;5;241m>\u001B[39m \u001B[38;5;241m1\u001B[39m:\n",
      "\u001B[1;31mKeyError\u001B[0m: 'BioAssays per Known Drug Target'"
     ]
    }
   ],
   "source": [
    "summary.sort_values(by=\"BioAssays per Known Drug Target\", ascending=False)"
   ]
  },
  {
   "cell_type": "markdown",
   "id": "2d7e196d",
   "metadata": {
    "pycharm": {
     "name": "#%% md\n"
    }
   },
   "source": [
    "# PPI Analysis\n",
    "Next, we perform an analysis of the identified proteins using information gathered by [e(BE:L)](https://github.com/e-bel/ebel).\n",
    "The following commands will download data from 4 major PPI databases: BioGRID, Pathway Commons, StringDB, and IntAct,\n",
    "and check which pathways/interactions are known for every identified secondary target."
   ]
  },
  {
   "cell_type": "code",
   "execution_count": null,
   "id": "afe6b98c",
   "metadata": {
    "pycharm": {
     "name": "#%%\n"
    }
   },
   "outputs": [],
   "source": [
    "# Uncomment the following line if you need to install e(BE:L)\n",
    "#!pip install ebel git+https://github.com/orientechnologies/pyorient\n",
    "\n",
    "import pandas as pd\n",
    "from ebel import Bel\n",
    "bel = Bel()"
   ]
  },
  {
   "cell_type": "markdown",
   "id": "95c1793d",
   "metadata": {
    "pycharm": {
     "name": "#%% md\n"
    }
   },
   "source": [
    "## Download PPI Information\n",
    "The following cell downloads information from the PPI databases and inserts into a RDBMS (SQLlite [default] or MySQL).  \n",
    "**WARNING** This step may take awhile."
   ]
  },
  {
   "cell_type": "code",
   "execution_count": null,
   "id": "c93c7640",
   "metadata": {
    "pycharm": {
     "name": "#%%\n"
    }
   },
   "outputs": [],
   "source": [
    "bel.biogrid.update()\n",
    "bel.intact.update()\n",
    "bel.stringdb.update()\n",
    "bel.pathway_commons.update()"
   ]
  },
  {
   "cell_type": "markdown",
   "id": "86a160e3",
   "metadata": {
    "pycharm": {
     "name": "#%% md\n"
    }
   },
   "source": [
    "## Gather Hits\n",
    "Now we check each PPI database for associated information on each secondary target."
   ]
  },
  {
   "cell_type": "code",
   "execution_count": null,
   "id": "2b7476fd",
   "metadata": {
    "pycharm": {
     "name": "#%%\n"
    }
   },
   "outputs": [],
   "source": [
    "proteins = list(summary.Target.unique())"
   ]
  },
  {
   "cell_type": "markdown",
   "id": "6d42612b",
   "metadata": {
    "pycharm": {
     "name": "#%% md\n"
    }
   },
   "source": [
    "### Pathway Commons"
   ]
  },
  {
   "cell_type": "code",
   "execution_count": null,
   "id": "722461b2",
   "metadata": {
    "pycharm": {
     "name": "#%%\n"
    }
   },
   "outputs": [],
   "source": [
    "sql = f\"\"\"Select\n",
    "    pc.participant_a a,\n",
    "    pc.interaction_type int_type,\n",
    "    pc.participant_b b,\n",
    "    group_concat(distinct pn.name) pathway_names,\n",
    "    group_concat(distinct s.source) sources,\n",
    "    group_concat(distinct p.pmid) pmids\n",
    "from\n",
    "    pathway_commons pc left join\n",
    "    pathway_commons__pathway_name pc_pn on (pc.id=pc_pn.pathway_commons_id) left join\n",
    "    pathway_commons_pathway_name pn on (pc_pn.pathway_commons_pathway_name_id = pn.id) left join\n",
    "    pathway_commons__source pc_s on (pc.id=pc_s.pathway_commons_id) left join\n",
    "    pathway_commons_source s on (pc_s.pathway_commons_source_id=s.id) left join\n",
    "    pathway_commons_pmid p on (p.pathway_commons_id=pc.id)\n",
    "where\n",
    "    (pc.participant_a in {proteins} and pc.participant_b = 'MAPT') or\n",
    "    (pc.participant_b in {proteins} and pc.participant_a = 'MAPT')\n",
    "group by\n",
    "    pc.participant_a, pc.interaction_type, pc.participant_b\"\"\"\n",
    "\n",
    "pc_hits = pd.read_sql(sql, engine)"
   ]
  },
  {
   "cell_type": "markdown",
   "id": "95d849ed",
   "metadata": {
    "pycharm": {
     "name": "#%% md\n"
    }
   },
   "source": [
    "### BioGRID"
   ]
  },
  {
   "cell_type": "code",
   "execution_count": null,
   "id": "a7b5fe4d",
   "metadata": {
    "pycharm": {
     "name": "#%%\n"
    }
   },
   "outputs": [],
   "source": [
    "sql = f\"\"\"Select\n",
    "    ia.symbol a,\n",
    "    ib.symbol b,\n",
    "    bes.experimental_system,\n",
    "    bes.experimental_system_type\n",
    "from\n",
    "    biogrid b inner join\n",
    "    biogrid_interactor ia on (b.biogrid_a_id=ia.biogrid_id) inner join\n",
    "    biogrid_interactor ib on (b.biogrid_b_id=ib.biogrid_id) inner join\n",
    "    biogrid_experimental_system bes on (b.experimental_system_id=bes.id)\n",
    "where\n",
    "    (ia.symbol = 'MAPT' and ib.symbol in {proteins}) or\n",
    "    (ib.symbol = 'MAPT' and ia.symbol in {proteins})\"\"\"\n",
    "\n",
    "biogrid_hits = pd.read_sql(sql, engine)"
   ]
  },
  {
   "cell_type": "markdown",
   "id": "9f7fffcf",
   "metadata": {
    "pycharm": {
     "name": "#%% md\n"
    }
   },
   "source": [
    "### IntAct"
   ]
  },
  {
   "cell_type": "code",
   "execution_count": null,
   "id": "fa77bf4e",
   "metadata": {
    "pycharm": {
     "name": "#%%\n"
    }
   },
   "outputs": [],
   "source": [
    "sql = f\"\"\"Select\n",
    "    ha.symbol as symbol_a,\n",
    "    hb.symbol as symbol_b,\n",
    "    i.confidence_value, \n",
    "    i.detection_method, \n",
    "    i.interaction_type, \n",
    "    i.pmid\n",
    "from \n",
    "    intact i inner join \n",
    "    hgnc_uniprot hua on (i.int_a_uniprot_id=hua.accession) inner join \n",
    "    hgnc ha on (hua.hgnc_id=ha.id) inner join \n",
    "    hgnc_uniprot hub on (i.int_b_uniprot_id=hub.accession) inner join \n",
    "    hgnc hb on (hub.hgnc_id=hb.id)\n",
    "where \n",
    "    (ha.symbol='MAPT' and hb.symbol in {proteins}) or\n",
    "    (hb.symbol='MAPT' and ha.symbol in {proteins})\n",
    "order by confidence_value desc\n",
    "\"\"\"\n",
    "intact_hits = pd.read_sql(sql, engine)"
   ]
  },
  {
   "cell_type": "markdown",
   "id": "fb4d1f5e",
   "metadata": {
    "pycharm": {
     "name": "#%% md\n"
    }
   },
   "source": [
    "### StringDB"
   ]
  },
  {
   "cell_type": "code",
   "execution_count": null,
   "id": "f3527343",
   "metadata": {
    "pycharm": {
     "name": "#%%\n"
    }
   },
   "outputs": [],
   "source": [
    "sql = f\"\"\"Select * \n",
    "from \n",
    "    stringdb \n",
    "where \n",
    "    (symbol1='MAPT' and symbol2 in {proteins}) or\n",
    "    (symbol2='MAPT' and symbol1 in {proteins})\n",
    "order by combined_score desc\n",
    "\"\"\"\n",
    "stringdb_hits = pd.read_sql(sql, engine)"
   ]
  },
  {
   "cell_type": "markdown",
   "id": "aa57a3ca",
   "metadata": {
    "pycharm": {
     "name": "#%% md\n"
    }
   },
   "source": [
    "# Connecting to a Different Knowledge Graph\n",
    "By default, this package connects to the Alzheimer's Disease based Knowledge Graph (KG) developed under the MAVO project, available at https://graphstore.scai.fraunhofer.de. There are other KGs available, however, and here you can choose to connect to a different one if desired.\n",
    "\n",
    "The commented out code shows how one can connect instead to the COVID KG."
   ]
  },
  {
   "cell_type": "code",
   "execution_count": null,
   "id": "b6604375",
   "metadata": {
    "pycharm": {
     "name": "#%%\n"
    }
   },
   "outputs": [],
   "source": [
    "from ebel_rest import connect\n",
    "connect(user=\"covid_user\", password=\"covid\", db_name=\"covid\", server=\"https://graphstore.scai.fraunhofer.de\")"
   ]
  }
 ],
 "metadata": {
  "kernelspec": {
   "display_name": "Python 3 (ipykernel)",
   "language": "python",
   "name": "python3"
  },
  "language_info": {
   "codemirror_mode": {
    "name": "ipython",
    "version": 3
   },
   "file_extension": ".py",
   "mimetype": "text/x-python",
   "name": "python",
   "nbconvert_exporter": "python",
   "pygments_lexer": "ipython3",
   "version": "3.9.7"
  }
 },
 "nbformat": 4,
 "nbformat_minor": 5
}